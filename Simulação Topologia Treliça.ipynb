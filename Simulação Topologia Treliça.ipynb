{
 "cells": [
  {
   "cell_type": "markdown",
   "metadata": {},
   "source": [
    "## Criação da Rede"
   ]
  },
  {
   "cell_type": "code",
   "execution_count": 34,
   "metadata": {},
   "outputs": [],
   "source": [
    "# Dependências\n",
    "from components import Network, Controller\n",
    "from components.qkd.app import *\n",
    "import numpy as np"
   ]
  },
  {
   "cell_type": "code",
   "execution_count": 35,
   "metadata": {},
   "outputs": [],
   "source": [
    "# Criando a rede\n",
    "rede = Network()\n",
    "# Criando e definindo um controlador pra rede\n",
    "controlador = Controller(rede)"
   ]
  },
  {
   "cell_type": "code",
   "execution_count": 36,
   "metadata": {},
   "outputs": [],
   "source": [
    "# Propriedades para simulação\n",
    "n_simulacoes = 100\n",
    "n_requests = 10\n",
    "n_total_execucoes = 0"
   ]
  },
  {
   "cell_type": "markdown",
   "metadata": {},
   "source": [
    "## Requests"
   ]
  },
  {
   "cell_type": "code",
   "execution_count": 37,
   "metadata": {},
   "outputs": [],
   "source": [
    "def generate_qkd_request(rede, num_requests , avaliable_apps=[\"BB84\", \"E91\", \"B92\"], diff_nodes=5):\n",
    "        \"\"\"\n",
    "        Gera uma lista de requisições aleatórias de QKD.\n",
    "\n",
    "        Args:\n",
    "            num_requests (int): Número de requisições.\n",
    "            diff_nodes (int): Número entre os nós. Defauts to 5.\n",
    "\n",
    "        Returns:\n",
    "            requests (list): Lista com requisições.\n",
    "        \"\"\"\n",
    "        requests = []\n",
    "        \n",
    "        for i in range(num_requests):\n",
    "            alice, bob = rede.random_alice_bob(diff_nodes)\n",
    "            priority = random.randint(1,5)\n",
    "            app = random.choice(avaliable_apps)\n",
    "            requests.append((alice, bob, app, priority))\n",
    "        \n",
    "        return requests"
   ]
  },
  {
   "cell_type": "markdown",
   "metadata": {},
   "source": [
    "## Coleta dos resultados"
   ]
  },
  {
   "cell_type": "code",
   "execution_count": 38,
   "metadata": {},
   "outputs": [],
   "source": [
    "# Taxa de sucesso de bits das chaves\n",
    "taxas_sucesso_chaves_geral = [] \n",
    "taxas_sucesso_chaves_e91 = [] \n",
    "taxas_sucesso_chaves_bb84 = [] \n",
    "taxas_sucesso_chaves_b92 = [] \n",
    "\n",
    "# Vazão da rede\n",
    "apps = [\"BB84\", \"E91\", \"B92\"]\n",
    "vazao = [] "
   ]
  },
  {
   "cell_type": "code",
   "execution_count": 39,
   "metadata": {},
   "outputs": [],
   "source": [
    "# Executa num_simulacoes vezes simulações de requests\n",
    "for indice, simulacao in enumerate(range(n_simulacoes)):\n",
    "    \n",
    "    taxas_sucesso_chaves_e91 = []\n",
    "    taxas_sucesso_chaves_bb84 = []\n",
    "    taxas_sucesso_chaves_b92 = []\n",
    "    rede.set_lattice_topology(3, 4)\n",
    "\n",
    "    requests = generate_qkd_request(rede, n_requests, apps)\n",
    "    resultados_simulacao = controlador.send_requests(requests, 'shortest')\n",
    "    \n",
    "    for indice_execucao in resultados_simulacao:\n",
    "        # Percorre cada execução e colhe o sucesso nas chaves\n",
    "        resultado_individual_simulacao = resultados_simulacao[indice_execucao]\n",
    "        sucesso_chave = resultado_individual_simulacao['key sucess']\n",
    "        \n",
    "        # Colhendo o sucesso nas chaves de cada app (Tamamnho da chave recebida/ Tamanho da chave enviada)\n",
    "        if resultado_individual_simulacao['app'] == 'BB84':\n",
    "            taxas_sucesso_chaves_bb84.append(sucesso_chave)\n",
    "            media_sucesso_chaves_bb84 = sum(taxas_sucesso_chaves_bb84) / len(taxas_sucesso_chaves_bb84)\n",
    "        \n",
    "        elif resultado_individual_simulacao['app'] == 'E91':\n",
    "            taxas_sucesso_chaves_e91.append(sucesso_chave)\n",
    "            media_sucesso_chaves_e91 = sum(taxas_sucesso_chaves_e91) / len(taxas_sucesso_chaves_e91)\n",
    "            \n",
    "        elif resultado_individual_simulacao['app'] == 'B92':\n",
    "            taxas_sucesso_chaves_b92.append(sucesso_chave)\n",
    "            media_sucesso_chaves_b92 = sum(taxas_sucesso_chaves_b92) / len(taxas_sucesso_chaves_b92)\n",
    "      \n",
    "    \n",
    "    # Salvando o sucesso nas chaves geral da simulação\n",
    "    lista_combinada = [taxa for sublist in [taxas_sucesso_chaves_bb84, taxas_sucesso_chaves_e91, taxas_sucesso_chaves_b92] for taxa in sublist]\n",
    "    #print(lista_combinada)\n",
    "    taxas_sucesso_chaves_geral.append(sum(lista_combinada) / len(lista_combinada))\n",
    "    \n",
    "    # Calculando a vazão\n",
    "    n_execucoes = len(resultados_simulacao)\n",
    "    vazao.append(n_requests / n_execucoes)\n",
    "    "
   ]
  },
  {
   "cell_type": "code",
   "execution_count": 40,
   "metadata": {},
   "outputs": [],
   "source": [
    "def formatar_numero(numero):\n",
    "    # Transforma o número em uma string com 7 casas decimais\n",
    "    numero_formatado = \"{:.7f}\".format(numero)\n",
    "\n",
    "    # Substitui o ponto pela vírgula\n",
    "    numero_formatado = numero_formatado.replace('.', ',')\n",
    "\n",
    "    return numero_formatado"
   ]
  },
  {
   "cell_type": "code",
   "execution_count": 41,
   "metadata": {},
   "outputs": [
    {
     "name": "stdout",
     "output_type": "stream",
     "text": [
      "5,6083333\n"
     ]
    }
   ],
   "source": [
    "print(formatar_numero(np.mean(vazao)))"
   ]
  },
  {
   "cell_type": "code",
   "execution_count": 42,
   "metadata": {},
   "outputs": [
    {
     "name": "stdout",
     "output_type": "stream",
     "text": [
      "2,1533404\n"
     ]
    }
   ],
   "source": [
    "print(formatar_numero(np.std(vazao)))"
   ]
  },
  {
   "cell_type": "code",
   "execution_count": 43,
   "metadata": {},
   "outputs": [
    {
     "name": "stdout",
     "output_type": "stream",
     "text": [
      "0,3835833\n"
     ]
    }
   ],
   "source": [
    "print(formatar_numero(np.mean(taxas_sucesso_chaves_geral)))"
   ]
  },
  {
   "cell_type": "code",
   "execution_count": 44,
   "metadata": {},
   "outputs": [
    {
     "name": "stdout",
     "output_type": "stream",
     "text": [
      "0,1270742\n"
     ]
    }
   ],
   "source": [
    "print(formatar_numero(np.std(taxas_sucesso_chaves_geral)))"
   ]
  }
 ],
 "metadata": {
  "kernelspec": {
   "display_name": "Python 3",
   "language": "python",
   "name": "python3"
  },
  "language_info": {
   "codemirror_mode": {
    "name": "ipython",
    "version": 3
   },
   "file_extension": ".py",
   "mimetype": "text/x-python",
   "name": "python",
   "nbconvert_exporter": "python",
   "pygments_lexer": "ipython3",
   "version": "3.12.0"
  }
 },
 "nbformat": 4,
 "nbformat_minor": 2
}
