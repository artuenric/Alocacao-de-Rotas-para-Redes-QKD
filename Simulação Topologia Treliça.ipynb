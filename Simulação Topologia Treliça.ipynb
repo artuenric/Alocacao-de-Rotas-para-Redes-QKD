{
 "cells": [
  {
   "cell_type": "code",
   "execution_count": 1,
   "metadata": {},
   "outputs": [],
   "source": [
    "# Componentes básicos da rede\n",
    "from components import Network, Controller\n",
    "# Funções auxiliares para executar as aplicações\n",
    "from components.qkd.app import *\n",
    "\n",
    "import numpy as np"
   ]
  },
  {
   "cell_type": "code",
   "execution_count": 2,
   "metadata": {},
   "outputs": [],
   "source": [
    "# Criando a rede\n",
    "rede = Network()\n",
    "\n",
    "# Criando e definindo um controlador pra rede\n",
    "controlador = Controller()\n",
    "controlador.set_network(rede)"
   ]
  },
  {
   "cell_type": "code",
   "execution_count": 3,
   "metadata": {},
   "outputs": [],
   "source": [
    "#  ________________________________________________________________\n",
    "# |Simulação: Várias execuções                                     |\n",
    "# |          _______________________________________________       |\n",
    "# |         |Execução: geração e atendimento dos requests   |      |\n",
    "# |         |                    ___________________________|      |\n",
    "# |         |                   |Requests: apps QKD         |      |\n",
    "# |         |___________________|___________________________|      |\n",
    "# |________________________________________________________________|\n",
    "#"
   ]
  },
  {
   "cell_type": "code",
   "execution_count": 4,
   "metadata": {},
   "outputs": [],
   "source": [
    "# Propriedades para simulação\n",
    "n_simulacoes = 100\n",
    "n_requests = 2\n",
    "n_total_execucoes = 0"
   ]
  },
  {
   "cell_type": "markdown",
   "metadata": {},
   "source": [
    "## Coleta dos resultados"
   ]
  },
  {
   "cell_type": "code",
   "execution_count": 5,
   "metadata": {},
   "outputs": [],
   "source": [
    "# Taxa de sucesso de bits das chaves\n",
    "taxas_sucesso_chaves_geral = []\n",
    "taxas_sucesso_chaves_e91 = []\n",
    "taxas_sucesso_chaves_bb84 = []\n",
    "taxas_sucesso_chaves_b92 = []\n",
    "\n",
    "# Médias de sucesso de bits das chaves\n",
    "medias_sucesso_chaves_geral = dict()\n",
    "\n",
    "# Vazão da rede\n",
    "vazao = []\n",
    "media_vazao = []"
   ]
  },
  {
   "cell_type": "code",
   "execution_count": 6,
   "metadata": {},
   "outputs": [],
   "source": [
    "# Executa num_simulacoes vezes simulações de requests\n",
    "for indice, simulacao in enumerate(range(n_simulacoes)):\n",
    "    \n",
    "    taxas_sucesso_chaves_e91 = []\n",
    "    taxas_sucesso_chaves_bb84 = []\n",
    "    taxas_sucesso_chaves_b92 = []\n",
    "    rede.set_lattice_topology(3, 4)\n",
    "        \n",
    "    requests = generate_qkd_request(rede, n_requests)\n",
    "    resultados_simulacao = controlador.send_requests(requests)\n",
    "    \n",
    "    for indice_execucao in resultados_simulacao:\n",
    "        # Percorre cada execução e colhe o sucesso nas chaves\n",
    "        resultado_individual_simulacao = resultados_simulacao[indice_execucao]\n",
    "        sucesso_chave = resultado_individual_simulacao['key sucess']\n",
    "        \n",
    "        # Colhendo o sucesso nas chaves de cada app (Tamamnho da chave recebida/ Tamanho da chave enviada)\n",
    "        if resultado_individual_simulacao['app'] == 'BB84':\n",
    "            taxas_sucesso_chaves_bb84.append(sucesso_chave)\n",
    "            media_sucesso_chaves_bb84 = sum(taxas_sucesso_chaves_bb84) / len(taxas_sucesso_chaves_bb84)\n",
    "        \n",
    "        elif resultado_individual_simulacao['app'] == 'E91':\n",
    "            taxas_sucesso_chaves_e91.append(sucesso_chave)\n",
    "            media_sucesso_chaves_e91 = sum(taxas_sucesso_chaves_e91) / len(taxas_sucesso_chaves_e91)\n",
    "            \n",
    "        elif resultado_individual_simulacao['app'] == 'B92':\n",
    "            taxas_sucesso_chaves_b92.append(sucesso_chave)\n",
    "            media_sucesso_chaves_b92 = sum(taxas_sucesso_chaves_b92) / len(taxas_sucesso_chaves_b92)\n",
    "      \n",
    "    \n",
    "    # Salvando o sucesso nas chaves geral da simulação\n",
    "    lista_combinada = [taxa for sublist in [taxas_sucesso_chaves_bb84, taxas_sucesso_chaves_e91, taxas_sucesso_chaves_b92] for taxa in sublist]\n",
    "    #print(lista_combinada)\n",
    "    taxas_sucesso_chaves_geral.append(sum(lista_combinada) / len(lista_combinada))\n",
    "    \n",
    "    # Calculando a vazão\n",
    "    n_execucoes = len(resultados_simulacao)\n",
    "    vazao.append(n_requests / n_execucoes)\n",
    "    "
   ]
  },
  {
   "cell_type": "code",
   "execution_count": 7,
   "metadata": {},
   "outputs": [
    {
     "name": "stdout",
     "output_type": "stream",
     "text": [
      "1.86\n"
     ]
    }
   ],
   "source": [
    "print(np.mean(vazao))"
   ]
  },
  {
   "cell_type": "code",
   "execution_count": 8,
   "metadata": {},
   "outputs": [
    {
     "name": "stdout",
     "output_type": "stream",
     "text": [
      "0.414535\n"
     ]
    }
   ],
   "source": [
    "print(np.mean(taxas_sucesso_chaves_geral))"
   ]
  },
  {
   "cell_type": "code",
   "execution_count": 9,
   "metadata": {},
   "outputs": [
    {
     "name": "stdout",
     "output_type": "stream",
     "text": [
      "0.11334772284876306\n"
     ]
    }
   ],
   "source": [
    "print(np.std(taxas_sucesso_chaves_geral))"
   ]
  },
  {
   "cell_type": "code",
   "execution_count": null,
   "metadata": {},
   "outputs": [],
   "source": []
  }
 ],
 "metadata": {
  "kernelspec": {
   "display_name": "Python 3",
   "language": "python",
   "name": "python3"
  },
  "language_info": {
   "codemirror_mode": {
    "name": "ipython",
    "version": 3
   },
   "file_extension": ".py",
   "mimetype": "text/x-python",
   "name": "python",
   "nbconvert_exporter": "python",
   "pygments_lexer": "ipython3",
   "version": "3.11.5"
  }
 },
 "nbformat": 4,
 "nbformat_minor": 2
}
