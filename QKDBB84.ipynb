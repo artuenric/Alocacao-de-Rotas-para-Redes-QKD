{
 "cells": [
  {
   "cell_type": "markdown",
   "metadata": {},
   "source": [
    "## QKD BB84"
   ]
  },
  {
   "cell_type": "code",
   "execution_count": 1,
   "metadata": {},
   "outputs": [],
   "source": [
    "from components import Network, Controller\n",
    "from components.qkd.bb84 import create_key, generate_bases, prepara_qubits_bb84, aplly_bases_in_measurement_bb84, compare_bases, get_key"
   ]
  },
  {
   "cell_type": "code",
   "execution_count": 2,
   "metadata": {},
   "outputs": [],
   "source": [
    "# Criando uma rede:\n",
    "rede = Network()\n",
    "# Definindo a topologia\n",
    "rows = 3\n",
    "cols = 4\n",
    "rede.set_lattice_topology(rows, cols)\n",
    "\n",
    "# Definindo um controlador\n",
    "controlador = Controller()\n",
    "controlador.set_network(rede)\n",
    "\n",
    "# Informações adicionais\n",
    "num_mensagens = 10\n",
    "key_size = 10\n",
    "diff_nodes = 3"
   ]
  },
  {
   "cell_type": "code",
   "execution_count": 3,
   "metadata": {},
   "outputs": [
    {
     "name": "stdout",
     "output_type": "stream",
     "text": [
      "\n",
      "Key gerada:      [1, 0, 1, 1, 1, 1, 1, 1, 0, 1]\n",
      "Shared Key:      [1, 1, 1, 1]\n",
      "Bases Alice:     [0, 0, 0, 0, 0, 1, 1, 0, 1, 0]\n",
      "Bases Bob:       [1, 1, 1, 0, 0, 1, 1, 1, 0, 1]\n",
      "Bits diferentes: 6\n",
      "\n",
      "Key gerada:      [0, 1, 0, 1, 0, 1, 0, 0, 1, 1]\n",
      "Shared Key:      [0, 1, 1, 0, 0, 1]\n",
      "Bases Alice:     [1, 1, 0, 0, 1, 1, 1, 1, 0, 0]\n",
      "Bases Bob:       [1, 1, 1, 0, 1, 0, 0, 1, 0, 1]\n",
      "Bits diferentes: 4\n",
      "\n",
      "Key gerada:      [1, 0, 0, 0, 1, 1, 0, 0, 1, 0]\n",
      "Shared Key:      [0, 0, 1, 0, 1]\n",
      "Bases Alice:     [0, 0, 1, 1, 1, 0, 0, 1, 1, 1]\n",
      "Bases Bob:       [1, 0, 1, 0, 0, 0, 1, 1, 1, 0]\n",
      "Bits diferentes: 5\n",
      "\n",
      "Key gerada:      [1, 0, 0, 1, 1, 1, 0, 0, 1, 0]\n",
      "Shared Key:      [1, 0, 0, 1, 1, 0, 1]\n",
      "Bases Alice:     [1, 1, 0, 1, 1, 1, 0, 0, 0, 1]\n",
      "Bases Bob:       [1, 1, 0, 0, 1, 1, 1, 0, 0, 0]\n",
      "Bits diferentes: 3\n",
      "\n",
      "Key gerada:      [1, 1, 0, 1, 1, 1, 1, 1, 0, 1]\n",
      "Shared Key:      [1, 1, 0, 1]\n",
      "Bases Alice:     [1, 0, 1, 0, 1, 0, 1, 1, 1, 1]\n",
      "Bases Bob:       [1, 0, 1, 1, 0, 1, 0, 0, 0, 1]\n",
      "Bits diferentes: 6\n",
      "\n",
      "Key gerada:      [1, 0, 0, 1, 0, 0, 1, 1, 1, 1]\n",
      "Shared Key:      [0, 0, 1]\n",
      "Bases Alice:     [0, 0, 1, 0, 0, 1, 1, 1, 1, 0]\n",
      "Bases Bob:       [1, 0, 0, 1, 0, 0, 1, 0, 0, 1]\n",
      "Bits diferentes: 7\n",
      "\n",
      "Key gerada:      [0, 1, 0, 0, 1, 0, 1, 1, 1, 1]\n",
      "Shared Key:      [0, 1, 0, 0, 0, 1, 1]\n",
      "Bases Alice:     [0, 1, 0, 1, 1, 0, 1, 1, 1, 0]\n",
      "Bases Bob:       [0, 1, 0, 1, 0, 0, 0, 1, 1, 1]\n",
      "Bits diferentes: 3\n",
      "\n",
      "Key gerada:      [0, 0, 1, 1, 1, 1, 0, 1, 1, 1]\n",
      "Shared Key:      [1, 1, 0, 1, 1]\n",
      "Bases Alice:     [1, 1, 0, 0, 0, 0, 0, 0, 1, 1]\n",
      "Bases Bob:       [0, 0, 1, 0, 1, 0, 0, 0, 1, 0]\n",
      "Bits diferentes: 5\n",
      "\n",
      "Key gerada:      [1, 0, 0, 1, 1, 1, 1, 0, 0, 0]\n",
      "Shared Key:      [0, 1, 1]\n",
      "Bases Alice:     [1, 1, 1, 0, 1, 0, 0, 1, 1, 0]\n",
      "Bases Bob:       [0, 1, 0, 0, 0, 0, 1, 0, 0, 1]\n",
      "Bits diferentes: 7\n",
      "\n",
      "Key gerada:      [1, 0, 1, 1, 0, 1, 0, 1, 1, 0]\n",
      "Shared Key:      [1, 0, 1, 1, 0]\n",
      "Bases Alice:     [0, 1, 0, 1, 0, 1, 0, 0, 0, 0]\n",
      "Bases Bob:       [0, 1, 1, 1, 1, 0, 1, 1, 0, 0]\n",
      "Bits diferentes: 5\n"
     ]
    }
   ],
   "source": [
    "# Main code\n",
    "for messages in range(num_mensagens):\n",
    "    # Definindo Alice e Bob\n",
    "    alice, bob = rede.random_alice_bob(diff_nodes)\n",
    "    \n",
    "    # Informações para Alice\n",
    "    msg = \"Opa\"\n",
    "    key_alice = create_key(key_size)\n",
    "    bases_alice = generate_bases(key_size)\n",
    "    \n",
    "    # Qubits\n",
    "    qubits = prepara_qubits_bb84(key_alice, bases_alice)\n",
    "    \n",
    "    # Informações para Bob\n",
    "    bases_bob = generate_bases(key_size)\n",
    "    \n",
    "    # Calculando a rota\n",
    "    route = controlador.calculate_route(alice, bob)\n",
    "    \n",
    "    # Bob mede os qubits\n",
    "    measured_qubits = aplly_bases_in_measurement_bb84(qubits, bases_bob)\n",
    "    \n",
    "    # Comparando as bases de Alice e Bob\n",
    "    matching_bases = compare_bases(bases_alice, bases_bob)\n",
    "    \n",
    "    # Chave obtida de acordo com as bases\n",
    "    generated_shared_key = get_key(measured_qubits, matching_bases)\n",
    "    \n",
    "    # Print the results\n",
    "    results = f\"\"\"\n",
    "Key gerada:      {key_alice}\n",
    "Shared Key:      {generated_shared_key}\n",
    "Bases Alice:     {bases_alice}\n",
    "Bases Bob:       {bases_bob}\n",
    "Bits diferentes: {len(key_alice) - len(generated_shared_key)}\"\"\"\n",
    "    \n",
    "    print(results)"
   ]
  }
 ],
 "metadata": {
  "kernelspec": {
   "display_name": "Python 3",
   "language": "python",
   "name": "python3"
  },
  "language_info": {
   "codemirror_mode": {
    "name": "ipython",
    "version": 3
   },
   "file_extension": ".py",
   "mimetype": "text/x-python",
   "name": "python",
   "nbconvert_exporter": "python",
   "pygments_lexer": "ipython3",
   "version": "3.11.5"
  }
 },
 "nbformat": 4,
 "nbformat_minor": 2
}
