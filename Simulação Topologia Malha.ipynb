{
 "cells": [
  {
   "cell_type": "markdown",
   "metadata": {},
   "source": [
    "# Simulações de rede QKD em topologia de malha\n",
    "\n",
    "Este documento apresenta uma demonstração da criação e execução de requests em uma rede QKD com topologia de malha."
   ]
  },
  {
   "cell_type": "code",
   "execution_count": 1,
   "metadata": {},
   "outputs": [],
   "source": [
    "# Dependências\n",
    "from components import Network, Controller\n",
    "from components.qkd.app import *\n",
    "import numpy as np"
   ]
  },
  {
   "cell_type": "code",
   "execution_count": 2,
   "metadata": {},
   "outputs": [],
   "source": [
    "# Criando a rede\n",
    "rede = Network()\n",
    "controlador = Controller(rede)"
   ]
  },
  {
   "cell_type": "code",
   "execution_count": 3,
   "metadata": {},
   "outputs": [],
   "source": [
    "# Gerando os requests\n",
    "def generate_qkd_requests(rede, num_requests, apps, case):\n",
    "        \"\"\"\n",
    "        Gera uma lista de requisições aleatórias de QKD.\n",
    "\n",
    "        Args:\n",
    "            num_requests (int): Número de requisições.\n",
    "            diff_nodes (int): Número entre os nós. Defauts to 5.\n",
    "            apps (list): Lista de apps disponíveis.\n",
    "            \n",
    "        Returns:\n",
    "            requests (list): Lista com requisições.\n",
    "        \"\"\"\n",
    "        classes = [\"Class A\", \"Class B\", \"Class C\", \"Class D\", \"Class E\"]\n",
    "        requests = []\n",
    "        \n",
    "        if case == 0:\n",
    "            class_distribution = [1/5] * 5\n",
    "        elif case == 1:\n",
    "            class_distribution = [0.2] * 5\n",
    "        elif case == 2:\n",
    "            class_distribution = [0.1, 0.1, 0.3, 0.25, 0.25]\n",
    "        elif case == 3:\n",
    "            class_distribution = [0.25, 0.25, 0.2, 0.1, 0.1]\n",
    "        elif case == 4:\n",
    "            class_distribution = [0.3, 0.3, 0.1, 0.15, 0.15]\n",
    "        else:\n",
    "            raise ValueError(\"Invalid case parameter\")\n",
    "            \n",
    "        for i in range(num_requests):\n",
    "            classe = random.choices(classes, class_distribution)[0]\n",
    "            app = random.choice(apps)\n",
    "            priority = random.randint(1, 5)\n",
    "            alice, bob = rede.random_alice_bob()\n",
    "            r = Request(classe, app, priority, alice, bob)\n",
    "            requests.append(r)\n",
    "        return requests"
   ]
  },
  {
   "cell_type": "code",
   "execution_count": 4,
   "metadata": {},
   "outputs": [],
   "source": [
    "# Propriedades para simulação\n",
    "n_simulacoes = 2\n",
    "n_requests = 10\n",
    "apps = [\"BB84\", \"E91\", \"B92\"]\n",
    "caso = 0\n",
    "rows = 3\n",
    "cols = 4\n",
    "topologia = \"Lattice\""
   ]
  },
  {
   "cell_type": "code",
   "execution_count": 5,
   "metadata": {},
   "outputs": [],
   "source": [
    "# Taxa de sucesso de bits das chaves\n",
    "taxas_sucesso_chaves_geral = []\n",
    "\n",
    "# Vazão da rede\n",
    "vazao = []"
   ]
  },
  {
   "cell_type": "code",
   "execution_count": 6,
   "metadata": {},
   "outputs": [
    {
     "name": "stdout",
     "output_type": "stream",
     "text": [
      "1ª EXECUÇÃO:\n",
      "Requisições:  ['BB84: 10-8 (P:1 Key: 100)', 'E91: 2-8 (P:3 Key: 100)', 'E91: 3-9 (P:5 Key: 100)', 'BB84: 8-3 (P:2 Key: 100)', 'E91: 10-0 (P:4 Key: 100)', 'BB84: 2-0 (P:4 Key: 100)', 'BB84: 3-6 (P:2 Key: 100)', 'E91: 2-6 (P:3 Key: 100)', 'B92: 4-5 (P:3 Key: 100)', 'BB84: 7-6 (P:2 Key: 100)']\n",
      "Requests ordenados por prioridade:  ['E91: 3-9 (P:5 Key: 100)', 'E91: 10-0 (P:4 Key: 100)', 'BB84: 2-0 (P:4 Key: 100)', 'E91: 2-8 (P:3 Key: 100)', 'E91: 2-6 (P:3 Key: 100)', 'B92: 4-5 (P:3 Key: 100)', 'BB84: 8-3 (P:2 Key: 100)', 'BB84: 3-6 (P:2 Key: 100)', 'BB84: 7-6 (P:2 Key: 100)', 'BB84: 10-8 (P:1 Key: 100)']\n",
      "Rotas: [[3, 2, 1, 5, 9], [3, 7, 6, 5, 9], [3, 2, 6, 5, 9], [3, 7, 11, 10, 9], [3, 7, 6, 10, 9]]\n",
      "Rota atual trabalhada:  [3, 2, 1, 5, 9]\n",
      "Rotas: [[10, 6, 2, 1, 0], [10, 9, 8, 4, 0], [10, 6, 5, 1, 0], [10, 9, 5, 4, 0], [10, 6, 5, 4, 0]]\n",
      "Rota atual trabalhada:  [10, 6, 2, 1, 0]\n",
      "Rotas: [[2, 1, 0], [2, 6, 5, 4, 0], [2, 1, 5, 4, 0], [2, 6, 5, 1, 0], [2, 3, 7, 6, 5, 1, 0]]\n",
      "Rota atual trabalhada:  [2, 1, 0]\n",
      "Rota atual trabalhada:  [2, 6, 5, 4, 0]\n",
      "Rotas: [[2, 1, 0, 4, 8], [2, 6, 5, 4, 8], [2, 1, 5, 4, 8], [2, 6, 10, 9, 8], [2, 6, 5, 9, 8]]\n",
      "Rota atual trabalhada:  [2, 1, 0, 4, 8]\n",
      "Rotas: [[2, 6], [2, 1, 5, 6], [2, 3, 7, 6], [2, 1, 0, 4, 5, 6], [2, 1, 5, 9, 10, 6]]\n",
      "Rota atual trabalhada:  [2, 6]\n",
      "Rota atual trabalhada:  [2, 1, 5, 6]\n",
      "Rotas: [[4, 5], [4, 0, 1, 5], [4, 8, 9, 5], [4, 0, 1, 2, 6, 5], [4, 8, 9, 10, 6, 5]]\n",
      "Rota atual trabalhada:  [4, 5]\n",
      "Rotas: [[8, 4, 0, 1, 2, 3], [8, 9, 5, 1, 2, 3], [8, 4, 5, 1, 2, 3], [8, 9, 10, 6, 2, 3], [8, 9, 5, 6, 2, 3]]\n",
      "Rota atual trabalhada:  [8, 4, 0, 1, 2, 3]\n",
      "Rota atual trabalhada:  [8, 9, 5, 1, 2, 3]\n",
      "Rotas: [[3, 2, 6], [3, 7, 6], [3, 2, 1, 5, 6], [3, 7, 11, 10, 6], [3, 2, 1, 0, 4, 5, 6]]\n",
      "Rota atual trabalhada:  [3, 2, 6]\n",
      "Rota atual trabalhada:  [3, 7, 6]\n",
      "Rotas: [[7, 6], [7, 3, 2, 6], [7, 11, 10, 6], [7, 3, 2, 1, 5, 6], [7, 11, 10, 9, 5, 6]]\n",
      "Rota atual trabalhada:  [7, 6]\n",
      "Rota atual trabalhada:  [7, 3, 2, 6]\n",
      "Rota atual trabalhada:  [7, 11, 10, 6]\n",
      "Rota atual trabalhada:  [7, 3, 2, 1, 5, 6]\n",
      "Rota atual trabalhada:  [7, 11, 10, 9, 5, 6]\n",
      "Rotas: [[10, 9, 8], [10, 6, 5, 4, 8], [10, 9, 5, 4, 8], [10, 6, 5, 9, 8], [10, 11, 7, 6, 5, 4, 8]]\n",
      "Rota atual trabalhada:  [10, 9, 8]\n",
      "2ª EXECUÇÃO:\n",
      "Requisições:  ['E91: 2-8 (P:3 Key: 10)', 'E91: 3-9 (P:5 Key: 15)', 'BB84: 8-3 (P:2 Key: 17)', 'E91: 10-0 (P:4 Key: 27)', 'BB84: 2-0 (P:4 Key: 18)', 'BB84: 3-6 (P:2 Key: 8)', 'E91: 2-6 (P:3 Key: 13)', 'B92: 4-5 (P:3 Key: 41)', 'BB84: 7-6 (P:2 Key: 100)']\n",
      "Requests ordenados por prioridade:  ['E91: 3-9 (P:5 Key: 15)', 'E91: 10-0 (P:4 Key: 27)', 'BB84: 2-0 (P:4 Key: 18)', 'E91: 2-8 (P:3 Key: 10)', 'E91: 2-6 (P:3 Key: 13)', 'B92: 4-5 (P:3 Key: 41)', 'BB84: 8-3 (P:2 Key: 17)', 'BB84: 3-6 (P:2 Key: 8)', 'BB84: 7-6 (P:2 Key: 100)']\n",
      "Rotas: [[3, 2, 1, 5, 9], [3, 7, 6, 5, 9], [3, 2, 6, 5, 9], [3, 7, 11, 10, 9], [3, 7, 6, 10, 9]]\n",
      "Rota atual trabalhada:  [3, 2, 1, 5, 9]\n",
      "Rotas: [[10, 6, 2, 1, 0], [10, 9, 8, 4, 0], [10, 6, 5, 1, 0], [10, 9, 5, 4, 0], [10, 6, 5, 4, 0]]\n",
      "Rota atual trabalhada:  [10, 6, 2, 1, 0]\n",
      "Rotas: [[2, 1, 0], [2, 6, 5, 4, 0], [2, 1, 5, 4, 0], [2, 6, 5, 1, 0], [2, 3, 7, 6, 5, 1, 0]]\n",
      "Rota atual trabalhada:  [2, 1, 0]\n",
      "Rota atual trabalhada:  [2, 6, 5, 4, 0]\n",
      "Rotas: [[2, 1, 0, 4, 8], [2, 6, 5, 4, 8], [2, 1, 5, 4, 8], [2, 6, 10, 9, 8], [2, 6, 5, 9, 8]]\n",
      "Rota atual trabalhada:  [2, 1, 0, 4, 8]\n",
      "Rotas: [[2, 6], [2, 1, 5, 6], [2, 3, 7, 6], [2, 1, 0, 4, 5, 6], [2, 1, 5, 9, 10, 6]]\n",
      "Rota atual trabalhada:  [2, 6]\n",
      "Rota atual trabalhada:  [2, 1, 5, 6]\n",
      "Rotas: [[4, 5], [4, 0, 1, 5], [4, 8, 9, 5], [4, 0, 1, 2, 6, 5], [4, 8, 9, 10, 6, 5]]\n",
      "Rota atual trabalhada:  [4, 5]\n",
      "Rotas: [[8, 4, 0, 1, 2, 3], [8, 9, 5, 1, 2, 3], [8, 4, 5, 1, 2, 3], [8, 9, 10, 6, 2, 3], [8, 9, 5, 6, 2, 3]]\n",
      "Rota atual trabalhada:  [8, 4, 0, 1, 2, 3]\n",
      "Rota atual trabalhada:  [8, 9, 5, 1, 2, 3]\n",
      "Rotas: [[3, 2, 6], [3, 7, 6], [3, 2, 1, 5, 6], [3, 7, 11, 10, 6], [3, 2, 1, 0, 4, 5, 6]]\n",
      "Rota atual trabalhada:  [3, 2, 6]\n",
      "Rota atual trabalhada:  [3, 7, 6]\n",
      "Rotas: [[7, 6], [7, 3, 2, 6], [7, 11, 10, 6], [7, 3, 2, 1, 5, 6], [7, 11, 10, 9, 5, 6]]\n",
      "Rota atual trabalhada:  [7, 6]\n",
      "Rota atual trabalhada:  [7, 3, 2, 6]\n",
      "Rota atual trabalhada:  [7, 11, 10, 6]\n",
      "Rota atual trabalhada:  [7, 3, 2, 1, 5, 6]\n",
      "Rota atual trabalhada:  [7, 11, 10, 9, 5, 6]\n",
      "3ª EXECUÇÃO:\n",
      "Requisições:  ['BB84: 7-6 (P:2 Key: 100)']\n",
      "Requests ordenados por prioridade:  ['BB84: 7-6 (P:2 Key: 100)']\n",
      "Rotas: [[7, 6], [7, 3, 2, 6], [7, 11, 10, 6], [7, 3, 2, 1, 5, 6], [7, 11, 10, 9, 5, 6]]\n",
      "Rota atual trabalhada:  [7, 6]\n",
      "1ª EXECUÇÃO:\n",
      "Requisições:  ['BB84: 0-4 (P:5 Key: 100)', 'B92: 3-10 (P:3 Key: 100)', 'BB84: 8-11 (P:4 Key: 100)', 'BB84: 2-1 (P:2 Key: 100)', 'B92: 7-4 (P:2 Key: 100)', 'BB84: 10-4 (P:2 Key: 100)', 'E91: 2-6 (P:4 Key: 100)', 'E91: 3-0 (P:1 Key: 100)', 'BB84: 4-0 (P:5 Key: 100)', 'B92: 4-7 (P:3 Key: 100)']\n",
      "Requests ordenados por prioridade:  ['BB84: 0-4 (P:5 Key: 100)', 'BB84: 4-0 (P:5 Key: 100)', 'BB84: 8-11 (P:4 Key: 100)', 'E91: 2-6 (P:4 Key: 100)', 'B92: 3-10 (P:3 Key: 100)', 'B92: 4-7 (P:3 Key: 100)', 'BB84: 2-1 (P:2 Key: 100)', 'B92: 7-4 (P:2 Key: 100)', 'BB84: 10-4 (P:2 Key: 100)', 'E91: 3-0 (P:1 Key: 100)']\n",
      "Rotas: [[0, 4], [0, 1, 5, 4], [0, 1, 2, 6, 5, 4], [0, 1, 5, 9, 8, 4], [0, 1, 2, 3, 7, 6, 5, 4]]\n",
      "Rota atual trabalhada:  [0, 4]\n",
      "Rotas: [[4, 0], [4, 5, 1, 0], [4, 8, 9, 5, 1, 0], [4, 5, 6, 2, 1, 0], [4, 8, 9, 10, 6, 2, 1, 0]]\n",
      "Rota atual trabalhada:  [4, 0]\n",
      "Rotas: [[8, 9, 10, 11], [8, 4, 5, 6, 7, 11], [8, 9, 5, 6, 7, 11], [8, 9, 10, 6, 7, 11], [8, 4, 5, 9, 10, 11]]\n",
      "Rota atual trabalhada:  [8, 9, 10, 11]\n",
      "Rotas: [[2, 6], [2, 1, 5, 6], [2, 3, 7, 6], [2, 1, 0, 4, 5, 6], [2, 1, 5, 9, 10, 6]]\n",
      "Rota atual trabalhada:  [2, 6]\n",
      "Rotas: [[3, 2, 6, 10], [3, 7, 6, 10], [3, 7, 11, 10], [3, 2, 1, 5, 9, 10], [3, 2, 6, 5, 9, 10]]\n",
      "Rota atual trabalhada:  [3, 2, 6, 10]\n",
      "Rota atual trabalhada:  [3, 7, 6, 10]\n",
      "Rotas: [[4, 5, 6, 7], [4, 0, 1, 5, 6, 7], [4, 5, 1, 2, 3, 7], [4, 5, 6, 2, 3, 7], [4, 8, 9, 5, 6, 7]]\n",
      "Rota atual trabalhada:  [4, 5, 6, 7]\n",
      "Rotas: [[2, 1], [2, 6, 5, 1], [2, 3, 7, 6, 5, 1], [2, 6, 10, 9, 5, 1], [2, 6, 5, 4, 0, 1]]\n",
      "Rota atual trabalhada:  [2, 1]\n",
      "Rotas: [[7, 6, 5, 4], [7, 3, 2, 1, 0, 4], [7, 6, 2, 1, 0, 4], [7, 6, 5, 1, 0, 4], [7, 11, 10, 6, 5, 4]]\n",
      "Rota atual trabalhada:  [7, 6, 5, 4]\n",
      "Rota atual trabalhada:  [7, 3, 2, 1, 0, 4]\n",
      "Rota atual trabalhada:  [7, 6, 2, 1, 0, 4]\n",
      "Rota atual trabalhada:  [7, 6, 5, 1, 0, 4]\n",
      "Rota atual trabalhada:  [7, 11, 10, 6, 5, 4]\n",
      "Rotas: [[10, 6, 5, 4], [10, 9, 5, 4], [10, 9, 8, 4], [10, 6, 2, 1, 0, 4], [10, 6, 5, 1, 0, 4]]\n",
      "Rota atual trabalhada:  [10, 6, 5, 4]\n",
      "Rota atual trabalhada:  [10, 9, 5, 4]\n",
      "Rota atual trabalhada:  [10, 9, 8, 4]\n",
      "Rotas: [[3, 2, 1, 0], [3, 7, 6, 5, 4, 0], [3, 2, 6, 5, 4, 0], [3, 2, 1, 5, 4, 0], [3, 7, 6, 2, 1, 0]]\n",
      "Rota atual trabalhada:  [3, 2, 1, 0]\n",
      "Rota atual trabalhada:  [3, 7, 6, 5, 4, 0]\n",
      "Rota atual trabalhada:  [3, 2, 6, 5, 4, 0]\n",
      "Rota atual trabalhada:  [3, 2, 1, 5, 4, 0]\n",
      "Rota atual trabalhada:  [3, 7, 6, 2, 1, 0]\n",
      "2ª EXECUÇÃO:\n",
      "Requisições:  ['B92: 3-10 (P:3 Key: 42)', 'BB84: 8-11 (P:4 Key: 15)', 'B92: 7-4 (P:2 Key: 50)', 'BB84: 10-4 (P:2 Key: 26)', 'E91: 2-6 (P:4 Key: 8)', 'E91: 3-0 (P:1 Key: 100)', 'BB84: 4-0 (P:5 Key: 4)', 'B92: 4-7 (P:3 Key: 44)']\n",
      "Requests ordenados por prioridade:  ['BB84: 4-0 (P:5 Key: 4)', 'BB84: 8-11 (P:4 Key: 15)', 'E91: 2-6 (P:4 Key: 8)', 'B92: 3-10 (P:3 Key: 42)', 'B92: 4-7 (P:3 Key: 44)', 'B92: 7-4 (P:2 Key: 50)', 'BB84: 10-4 (P:2 Key: 26)', 'E91: 3-0 (P:1 Key: 100)']\n",
      "Rotas: [[4, 0], [4, 5, 1, 0], [4, 8, 9, 5, 1, 0], [4, 5, 6, 2, 1, 0], [4, 8, 9, 10, 6, 2, 1, 0]]\n",
      "Rota atual trabalhada:  [4, 0]\n",
      "Rotas: [[8, 9, 10, 11], [8, 4, 5, 6, 7, 11], [8, 9, 5, 6, 7, 11], [8, 9, 10, 6, 7, 11], [8, 4, 5, 9, 10, 11]]\n",
      "Rota atual trabalhada:  [8, 9, 10, 11]\n",
      "Rotas: [[2, 6], [2, 1, 5, 6], [2, 3, 7, 6], [2, 1, 0, 4, 5, 6], [2, 1, 5, 9, 10, 6]]\n",
      "Rota atual trabalhada:  [2, 6]\n",
      "Rotas: [[3, 2, 6, 10], [3, 7, 6, 10], [3, 7, 11, 10], [3, 2, 1, 5, 9, 10], [3, 2, 6, 5, 9, 10]]\n",
      "Rota atual trabalhada:  [3, 2, 6, 10]\n",
      "Rota atual trabalhada:  [3, 7, 6, 10]\n",
      "Rotas: [[4, 5, 6, 7], [4, 0, 1, 5, 6, 7], [4, 5, 1, 2, 3, 7], [4, 5, 6, 2, 3, 7], [4, 8, 9, 5, 6, 7]]\n",
      "Rota atual trabalhada:  [4, 5, 6, 7]\n",
      "Rotas: [[7, 6, 5, 4], [7, 3, 2, 1, 0, 4], [7, 6, 2, 1, 0, 4], [7, 6, 5, 1, 0, 4], [7, 11, 10, 6, 5, 4]]\n",
      "Rota atual trabalhada:  [7, 6, 5, 4]\n",
      "Rota atual trabalhada:  [7, 3, 2, 1, 0, 4]\n",
      "Rotas: [[10, 6, 5, 4], [10, 9, 5, 4], [10, 9, 8, 4], [10, 6, 2, 1, 0, 4], [10, 6, 5, 1, 0, 4]]\n",
      "Rota atual trabalhada:  [10, 6, 5, 4]\n",
      "Rotas: [[3, 2, 1, 0], [3, 7, 6, 5, 4, 0], [3, 2, 6, 5, 4, 0], [3, 2, 1, 5, 4, 0], [3, 7, 6, 2, 1, 0]]\n",
      "Rota atual trabalhada:  [3, 2, 1, 0]\n",
      "Rota atual trabalhada:  [3, 7, 6, 5, 4, 0]\n",
      "Rota atual trabalhada:  [3, 2, 6, 5, 4, 0]\n",
      "Rota atual trabalhada:  [3, 2, 1, 5, 4, 0]\n",
      "Rota atual trabalhada:  [3, 7, 6, 2, 1, 0]\n",
      "3ª EXECUÇÃO:\n",
      "Requisições:  ['E91: 3-0 (P:1 Key: 100)']\n",
      "Requests ordenados por prioridade:  ['E91: 3-0 (P:1 Key: 100)']\n",
      "Rotas: [[3, 2, 1, 0], [3, 7, 6, 5, 4, 0], [3, 2, 6, 5, 4, 0], [3, 2, 1, 5, 4, 0], [3, 7, 6, 2, 1, 0]]\n",
      "Rota atual trabalhada:  [3, 2, 1, 0]\n",
      "4ª EXECUÇÃO:\n",
      "Requisições:  ['E91: 3-0 (P:1 Key: 10)']\n",
      "Requests ordenados por prioridade:  ['E91: 3-0 (P:1 Key: 10)']\n",
      "Rotas: [[3, 2, 1, 0], [3, 7, 6, 5, 4, 0], [3, 2, 6, 5, 4, 0], [3, 2, 1, 5, 4, 0], [3, 7, 6, 2, 1, 0]]\n",
      "Rota atual trabalhada:  [3, 2, 1, 0]\n"
     ]
    }
   ],
   "source": [
    "# Executa num_simulacoes vezes simulações de requests\n",
    "for indice, simulacao in enumerate(range(n_simulacoes)):\n",
    "    \n",
    "    # Variáveis para coleta dos dados\n",
    "    taxas_sucesso_chaves_e91 = []\n",
    "    taxas_sucesso_chaves_bb84 = []\n",
    "    taxas_sucesso_chaves_b92 = []\n",
    "    \n",
    "    # Simulação\n",
    "    rede.set_topology(topologia, rows, cols)\n",
    "    requests = generate_qkd_requests(rede, n_requests, apps, caso)\n",
    "    resultados_simulacao = controlador.send_requests(requests, 'kshortest')\n",
    "\n",
    "    # Tratamento dos dados\n",
    "    for indice_execucao in resultados_simulacao:\n",
    "\n",
    "        # Percorre cada execução e colhe o sucesso nas chaves\n",
    "        resultado_individual_simulacao = resultados_simulacao[indice_execucao]\n",
    "        sucesso_chave = resultado_individual_simulacao['key sucess']\n",
    "\n",
    "        # Colhendo o sucesso nas chaves de cada app (Tamamnho da chave recebida/ Tamanho da chave enviada)\n",
    "        if resultado_individual_simulacao['app'] == 'BB84':\n",
    "            taxas_sucesso_chaves_bb84.append(sucesso_chave)\n",
    "            media_sucesso_chaves_bb84 = sum(taxas_sucesso_chaves_bb84) / len(taxas_sucesso_chaves_bb84)\n",
    "\n",
    "        elif resultado_individual_simulacao['app'] == 'E91':\n",
    "            taxas_sucesso_chaves_e91.append(sucesso_chave)\n",
    "            media_sucesso_chaves_e91 = sum(taxas_sucesso_chaves_e91) / len(taxas_sucesso_chaves_e91)\n",
    "\n",
    "        elif resultado_individual_simulacao['app'] == 'B92':\n",
    "            taxas_sucesso_chaves_b92.append(sucesso_chave)\n",
    "            media_sucesso_chaves_b92 = sum(taxas_sucesso_chaves_b92) / len(taxas_sucesso_chaves_b92)\n",
    "\n",
    "    # Salvando o sucesso nas chaves geral da simulação\n",
    "    lista_combinada = [taxa for sublist in [taxas_sucesso_chaves_bb84, taxas_sucesso_chaves_e91, taxas_sucesso_chaves_b92] for taxa in sublist]\n",
    "    taxas_sucesso_chaves_geral.append(sum(lista_combinada) / len(lista_combinada))\n",
    "    \n",
    "    # Calculando a vazão\n",
    "    n_execucoes = len(resultados_simulacao)\n",
    "    vazao.append(n_requests / n_execucoes)"
   ]
  },
  {
   "cell_type": "markdown",
   "metadata": {},
   "source": [
    "## Resultados"
   ]
  },
  {
   "cell_type": "code",
   "execution_count": 7,
   "metadata": {},
   "outputs": [
    {
     "name": "stdout",
     "output_type": "stream",
     "text": [
      "2.916666666666667\n"
     ]
    }
   ],
   "source": [
    "print(np.mean(vazao))"
   ]
  },
  {
   "cell_type": "code",
   "execution_count": 8,
   "metadata": {},
   "outputs": [
    {
     "name": "stdout",
     "output_type": "stream",
     "text": [
      "0.46354166666666663\n"
     ]
    }
   ],
   "source": [
    "print(np.mean(taxas_sucesso_chaves_geral))"
   ]
  },
  {
   "cell_type": "code",
   "execution_count": 9,
   "metadata": {},
   "outputs": [
    {
     "name": "stdout",
     "output_type": "stream",
     "text": [
      "0.03979166666666664\n"
     ]
    }
   ],
   "source": [
    "print(np.std(taxas_sucesso_chaves_geral))"
   ]
  }
 ],
 "metadata": {
  "kernelspec": {
   "display_name": "Python 3",
   "language": "python",
   "name": "python3"
  },
  "language_info": {
   "codemirror_mode": {
    "name": "ipython",
    "version": 3
   },
   "file_extension": ".py",
   "mimetype": "text/x-python",
   "name": "python",
   "nbconvert_exporter": "python",
   "pygments_lexer": "ipython3",
   "version": "3.12.1"
  }
 },
 "nbformat": 4,
 "nbformat_minor": 2
}
