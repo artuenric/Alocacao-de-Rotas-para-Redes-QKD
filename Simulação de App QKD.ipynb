{
 "cells": [
  {
   "cell_type": "code",
   "execution_count": 1,
   "metadata": {},
   "outputs": [],
   "source": [
    "# Componentes básicos da rede\n",
    "from components import Network, Controller\n",
    "# Funções auxiliares para executar as aplicações\n",
    "from components.qkd.app import *\n",
    "# Execução com GFORCE\n",
    "from numba import jit"
   ]
  },
  {
   "cell_type": "code",
   "execution_count": 2,
   "metadata": {},
   "outputs": [],
   "source": [
    "# Criando a rede\n",
    "rede = Network()\n",
    "\n",
    "# Criando e definindo um controlador pra rede\n",
    "controlador = Controller()\n",
    "controlador.set_network(rede)"
   ]
  },
  {
   "cell_type": "code",
   "execution_count": 3,
   "metadata": {},
   "outputs": [],
   "source": [
    "# Propriedades para simulação\n",
    "num_simulacoes = 100\n",
    "num_requests = 10000\n",
    "\n",
    "# Resultados\n",
    "taxa_sucesso_chaves = 0\n",
    "vazao = 0"
   ]
  },
  {
   "cell_type": "code",
   "execution_count": 4,
   "metadata": {},
   "outputs": [],
   "source": [
    "def simulacoes(num_simulacoes, num_requests):\n",
    "    num_total_execucoes = 0\n",
    "        \n",
    "    for simulacao in range(num_simulacoes):\n",
    "        rede.set_lattice_topology(30, 30)\n",
    "        \n",
    "        requests = generate_qkd_request(rede, num_requests)\n",
    "        resultados_simulacao = controlador.send_requests(requests)\n",
    "        \n",
    "        num_total_execucoes += len(resultados_simulacao)\n",
    "        \n",
    "    vazao = (num_simulacoes * num_requests ) / num_total_execucoes\n",
    "    return vazao"
   ]
  },
  {
   "cell_type": "code",
   "execution_count": 5,
   "metadata": {},
   "outputs": [],
   "source": [
    "vazao = simulacoes(num_simulacoes, num_requests)"
   ]
  },
  {
   "cell_type": "code",
   "execution_count": 6,
   "metadata": {},
   "outputs": [
    {
     "name": "stdout",
     "output_type": "stream",
     "text": [
      "127.90995139421847\n"
     ]
    }
   ],
   "source": [
    "print(vazao)"
   ]
  }
 ],
 "metadata": {
  "kernelspec": {
   "display_name": "Python 3",
   "language": "python",
   "name": "python3"
  },
  "language_info": {
   "codemirror_mode": {
    "name": "ipython",
    "version": 3
   },
   "file_extension": ".py",
   "mimetype": "text/x-python",
   "name": "python",
   "nbconvert_exporter": "python",
   "pygments_lexer": "ipython3",
   "version": "3.11.5"
  }
 },
 "nbformat": 4,
 "nbformat_minor": 2
}
