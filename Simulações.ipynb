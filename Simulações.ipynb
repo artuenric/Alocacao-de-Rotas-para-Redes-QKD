{
 "cells": [
  {
   "cell_type": "code",
   "execution_count": 1,
   "metadata": {},
   "outputs": [],
   "source": [
    "# Importando dependências\n",
    "from components import *\n",
    "from components.qkd import app "
   ]
  },
  {
   "cell_type": "code",
   "execution_count": 2,
   "metadata": {},
   "outputs": [],
   "source": [
    "rede = Network()\n",
    "rede.set_USA_topology()\n",
    "controlador = Controller(rede)"
   ]
  },
  {
   "cell_type": "code",
   "execution_count": 3,
   "metadata": {},
   "outputs": [
    {
     "name": "stdout",
     "output_type": "stream",
     "text": [
      "Taxas de Sucesso Geral: [0.27666666666666667, 0.2900793650793651, 0.27999999999999997, 0.3055555555555556, 0.26, 0.3044871794871795, 0.3055555555555555, 0.27497835497835493, 0.2541666666666667, 0.3444444444444444]\n",
      "Vazão: [8.333333333333334, 5.882352941176471, 10.0, 5.882352941176471, 6.666666666666667, 4.3478260869565215, 7.6923076923076925, 4.3478260869565215, 7.142857142857143, 6.666666666666667]\n"
     ]
    }
   ],
   "source": [
    "# Exemplo de uso\n",
    "n_simulacoes = 10\n",
    "n_requests = 100\n",
    "\n",
    "taxas_sucesso_chaves_geral, vazao = app.run_simulations(rede, controlador, n_simulacoes, n_requests)\n",
    "\n",
    "# Faça algo com as taxas de sucesso e vazão calculadas\n",
    "print(\"Taxas de Sucesso Geral:\", taxas_sucesso_chaves_geral)\n",
    "print(\"Vazão:\", vazao)"
   ]
  }
 ],
 "metadata": {
  "kernelspec": {
   "display_name": "Python 3",
   "language": "python",
   "name": "python3"
  },
  "language_info": {
   "codemirror_mode": {
    "name": "ipython",
    "version": 3
   },
   "file_extension": ".py",
   "mimetype": "text/x-python",
   "name": "python",
   "nbconvert_exporter": "python",
   "pygments_lexer": "ipython3",
   "version": "3.12.0"
  }
 },
 "nbformat": 4,
 "nbformat_minor": 2
}
