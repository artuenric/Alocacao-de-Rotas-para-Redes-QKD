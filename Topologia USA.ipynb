{
 "cells": [
  {
   "cell_type": "markdown",
   "metadata": {},
   "source": [
    "## Simulação de rede QKD na topologia de rede dos EUA"
   ]
  },
  {
   "cell_type": "code",
   "execution_count": null,
   "metadata": {},
   "outputs": [],
   "source": [
    "# Dependências\n",
    "from components import Network, Controller\n",
    "from components.qkd.app import *\n",
    "import numpy as np"
   ]
  },
  {
   "cell_type": "code",
   "execution_count": null,
   "metadata": {},
   "outputs": [],
   "source": [
    "# Definindo rede e controlador\n",
    "rede = Network()\n",
    "rede.set_USA_topology()\n",
    "controlador = Controller(rede)\n",
    "#rede.draw()"
   ]
  },
  {
   "cell_type": "code",
   "execution_count": null,
   "metadata": {},
   "outputs": [],
   "source": [
    "# Exemplo de uso\n",
    "n_simulacoes = 100\n",
    "n_requests = 50\n",
    "apps = [\"BB84\", \"E91\", \"B92\"]\n",
    "routes_calculation_type = 'kshortest'\n",
    "caso = 0"
   ]
  },
  {
   "cell_type": "code",
   "execution_count": null,
   "metadata": {},
   "outputs": [],
   "source": [
    "# Calculando e coletando resultados\n",
    "taxas_sucesso_chaves_geral, vazao = run_simulations(rede, controlador, n_simulacoes, n_requests, apps, caso, routes_calculation_type)\n",
    "media_sucesso = np.mean(taxas_sucesso_chaves_geral)\n",
    "desvio_padrao_sucesso = np.std(taxas_sucesso_chaves_geral)\n",
    "media_vazao = np.mean(vazao)\n",
    "desvio_padrao_vazao = np.std(vazao)"
   ]
  },
  {
   "cell_type": "code",
   "execution_count": null,
   "metadata": {},
   "outputs": [],
   "source": [
    "print(formatar_numero(media_vazao),\n",
    "formatar_numero(desvio_padrao_vazao),\n",
    "formatar_numero(media_sucesso),\n",
    "formatar_numero(desvio_padrao_sucesso))"
   ]
  },
  {
   "cell_type": "code",
   "execution_count": null,
   "metadata": {},
   "outputs": [],
   "source": [
    "# Formatação para Google Sheets\n",
    "print(f'=SPLIT(\"{formatar_numero(media_vazao)} {formatar_numero(desvio_padrao_vazao)} {formatar_numero(media_sucesso)} {formatar_numero(desvio_padrao_sucesso)}\"; \" \")')"
   ]
  },
  {
   "cell_type": "code",
   "execution_count": null,
   "metadata": {},
   "outputs": [],
   "source": [
    "def formatar_planilha():\n",
    "    apps = [\"B92\"]\n",
    "    routes_calculation_type = 'shortest'\n",
    "    numero_requests = [2, 5, 10, 25, 50, 75, 100]\n",
    "    \n",
    "    for request in numero_requests:\n",
    "        taxas_sucesso_chaves_geral, vazao = run_simulations(rede, controlador, n_simulacoes, request, apps, caso, routes_calculation_type)\n",
    "        media_sucesso = np.mean(taxas_sucesso_chaves_geral)\n",
    "        desvio_padrao_sucesso = np.std(taxas_sucesso_chaves_geral)\n",
    "        media_vazao = np.mean(vazao)\n",
    "        desvio_padrao_vazao = np.std(vazao)\n",
    "        #print(f'Numero de request atual: {request}')\n",
    "        print(f'=SPLIT(\"{formatar_numero(media_vazao)} {formatar_numero(desvio_padrao_vazao)} {formatar_numero(media_sucesso)} {formatar_numero(desvio_padrao_sucesso)}\"; \" \")')"
   ]
  },
  {
   "cell_type": "code",
   "execution_count": null,
   "metadata": {},
   "outputs": [],
   "source": [
    "formatar_planilha()"
   ]
  }
 ],
 "metadata": {
  "kernelspec": {
   "display_name": "Python 3",
   "language": "python",
   "name": "python3"
  },
  "language_info": {
   "codemirror_mode": {
    "name": "ipython",
    "version": 3
   },
   "file_extension": ".py",
   "mimetype": "text/x-python",
   "name": "python",
   "nbconvert_exporter": "python",
   "pygments_lexer": "ipython3",
   "version": "3.12.1"
  }
 },
 "nbformat": 4,
 "nbformat_minor": 2
}
