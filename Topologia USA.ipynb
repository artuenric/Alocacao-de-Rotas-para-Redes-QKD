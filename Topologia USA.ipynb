{
 "cells": [
  {
   "cell_type": "markdown",
   "metadata": {},
   "source": [
    "## Simulação de rede QKD na topologia de rede dos EUA"
   ]
  },
  {
   "cell_type": "code",
   "execution_count": 1,
   "metadata": {},
   "outputs": [],
   "source": [
    "# Dependências\n",
    "from components import Network, Controller\n",
    "from components.qkd.app import *\n",
    "import numpy as np"
   ]
  },
  {
   "cell_type": "code",
   "execution_count": 2,
   "metadata": {},
   "outputs": [],
   "source": [
    "# Definindo rede e controlador\n",
    "rede = Network()\n",
    "rede.set_USA_topology()\n",
    "controlador = Controller(rede)\n",
    "#rede.draw()"
   ]
  },
  {
   "cell_type": "code",
   "execution_count": 3,
   "metadata": {},
   "outputs": [],
   "source": [
    "# Exemplo de uso\n",
    "n_simulacoes = 100\n",
    "n_requests = 50\n",
    "apps = [\"BB84\", \"E91\", \"B92\"]\n",
    "routes_calculation_type = 'kshortest'"
   ]
  },
  {
   "cell_type": "code",
   "execution_count": 4,
   "metadata": {},
   "outputs": [],
   "source": [
    "# Calculando e coletando resultados\n",
    "taxas_sucesso_chaves_geral, vazao = run_simulations(rede, controlador, n_simulacoes, n_requests, apps, routes_calculation_type)\n",
    "media_sucesso = np.mean(taxas_sucesso_chaves_geral)\n",
    "desvio_padrao_sucesso = np.std(taxas_sucesso_chaves_geral)\n",
    "media_vazao = np.mean(vazao)\n",
    "desvio_padrao_vazao = np.std(vazao)"
   ]
  },
  {
   "cell_type": "code",
   "execution_count": 5,
   "metadata": {},
   "outputs": [
    {
     "name": "stdout",
     "output_type": "stream",
     "text": [
      "8,3458333 1,3465095 0,4167226 0,0762472\n"
     ]
    }
   ],
   "source": [
    "print(formatar_numero(media_vazao),\n",
    "formatar_numero(desvio_padrao_vazao),\n",
    "formatar_numero(media_sucesso),\n",
    "formatar_numero(desvio_padrao_sucesso))"
   ]
  },
  {
   "cell_type": "code",
   "execution_count": 6,
   "metadata": {},
   "outputs": [
    {
     "name": "stdout",
     "output_type": "stream",
     "text": [
      "=SPLIT(\"8,3458333 1,3465095 0,4167226 0,0762472\"; \" \")\n"
     ]
    }
   ],
   "source": [
    "# Formatação para Google Sheets\n",
    "print(f'=SPLIT(\"{formatar_numero(media_vazao)} {formatar_numero(desvio_padrao_vazao)} {formatar_numero(media_sucesso)} {formatar_numero(desvio_padrao_sucesso)}\"; \" \")')"
   ]
  },
  {
   "cell_type": "code",
   "execution_count": 7,
   "metadata": {},
   "outputs": [],
   "source": [
    "def formatar_planilha():\n",
    "    apps = [\"B92\"]\n",
    "    routes_calculation_type = 'shortest'\n",
    "    numero_requests = [2, 5, 10, 25, 50, 75, 100]\n",
    "    \n",
    "    for request in numero_requests:\n",
    "        taxas_sucesso_chaves_geral, vazao = run_simulations(rede, controlador, n_simulacoes, request, apps, routes_calculation_type)\n",
    "        media_sucesso = np.mean(taxas_sucesso_chaves_geral)\n",
    "        desvio_padrao_sucesso = np.std(taxas_sucesso_chaves_geral)\n",
    "        media_vazao = np.mean(vazao)\n",
    "        desvio_padrao_vazao = np.std(vazao)\n",
    "        #print(f'Numero de request atual: {request}')\n",
    "        print(f'=SPLIT(\"{formatar_numero(media_vazao)} {formatar_numero(desvio_padrao_vazao)} {formatar_numero(media_sucesso)} {formatar_numero(desvio_padrao_sucesso)}\"; \" \")')"
   ]
  },
  {
   "cell_type": "code",
   "execution_count": 8,
   "metadata": {},
   "outputs": [
    {
     "name": "stdout",
     "output_type": "stream",
     "text": [
      "=SPLIT(\"1,9300000 0,2551470 0,2430000 0,1450896\"; \" \")\n",
      "=SPLIT(\"3,6833333 1,2702799 0,2623333 0,1107204\"; \" \")\n"
     ]
    },
    {
     "name": "stdout",
     "output_type": "stream",
     "text": [
      "=SPLIT(\"4,1666667 1,2692955 0,2525000 0,0900193\"; \" \")\n",
      "=SPLIT(\"5,5714286 1,1372242 0,2441476 0,0620669\"; \" \")\n",
      "=SPLIT(\"6,3468957 1,1240967 0,2592227 0,0463211\"; \" \")\n",
      "=SPLIT(\"7,1822306 1,2927390 0,2527550 0,0427138\"; \" \")\n",
      "=SPLIT(\"7,3207216 0,9296856 0,2497024 0,0319012\"; \" \")\n"
     ]
    }
   ],
   "source": [
    "formatar_planilha()"
   ]
  },
  {
   "cell_type": "code",
   "execution_count": null,
   "metadata": {},
   "outputs": [],
   "source": []
  }
 ],
 "metadata": {
  "kernelspec": {
   "display_name": "Python 3",
   "language": "python",
   "name": "python3"
  },
  "language_info": {
   "codemirror_mode": {
    "name": "ipython",
    "version": 3
   },
   "file_extension": ".py",
   "mimetype": "text/x-python",
   "name": "python",
   "nbconvert_exporter": "python",
   "pygments_lexer": "ipython3",
   "version": "3.11.2"
  }
 },
 "nbformat": 4,
 "nbformat_minor": 2
}
