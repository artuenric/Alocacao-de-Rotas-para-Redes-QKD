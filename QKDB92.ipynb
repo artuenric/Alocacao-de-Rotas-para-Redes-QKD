{
 "cells": [
  {
   "cell_type": "markdown",
   "metadata": {},
   "source": [
    "## QKD B92"
   ]
  },
  {
   "cell_type": "code",
   "execution_count": 1,
   "metadata": {},
   "outputs": [],
   "source": [
    "from components import Network, Controller\n",
    "from components.qkd.b92 import create_key, generate_bases, prepara_qubits_b92, apply_measurement_b92"
   ]
  },
  {
   "cell_type": "code",
   "execution_count": 2,
   "metadata": {},
   "outputs": [],
   "source": [
    "# Criando uma rede:\n",
    "rede = Network()\n",
    "# Definindo a topologia\n",
    "rows = 3\n",
    "cols = 4\n",
    "rede.set_lattice_topology(rows, cols)\n",
    "\n",
    "# Definindo um controlador\n",
    "controlador = Controller()\n",
    "controlador.set_network(rede)\n",
    "\n",
    "# Informações adicionais\n",
    "num_mensagens = 10\n",
    "key_size = 10\n",
    "diff_nodes = 5"
   ]
  },
  {
   "cell_type": "code",
   "execution_count": 3,
   "metadata": {},
   "outputs": [
    {
     "name": "stdout",
     "output_type": "stream",
     "text": [
      "\n",
      "Key gerada:       [1, 1, 0, 1, 0, 0, 0, 1, 0, 1]\n",
      "Shared Key:       [0]\n",
      "Bits diferentes:  9\n",
      "\n",
      "Key gerada:       [1, 1, 0, 0, 1, 1, 0, 1, 1, 0]\n",
      "Shared Key:       [1, 0, 0, 1, 1, 0]\n",
      "Bits diferentes:  4\n",
      "\n",
      "Key gerada:       [1, 1, 0, 1, 0, 0, 0, 0, 1, 1]\n",
      "Shared Key:       []\n",
      "Bits diferentes:  10\n",
      "\n",
      "Key gerada:       [1, 0, 1, 0, 0, 1, 1, 1, 0, 1]\n",
      "Shared Key:       [1, 1]\n",
      "Bits diferentes:  8\n",
      "\n",
      "Key gerada:       [0, 1, 0, 1, 0, 1, 1, 1, 1, 1]\n",
      "Shared Key:       [0, 1, 0, 1]\n",
      "Bits diferentes:  6\n",
      "\n",
      "Key gerada:       [1, 1, 1, 1, 0, 1, 0, 0, 0, 1]\n",
      "Shared Key:       [1]\n",
      "Bits diferentes:  9\n",
      "\n",
      "Key gerada:       [0, 1, 0, 1, 0, 0, 0, 0, 0, 0]\n",
      "Shared Key:       [0, 1, 0]\n",
      "Bits diferentes:  7\n",
      "\n",
      "Key gerada:       [1, 1, 1, 1, 0, 0, 1, 1, 1, 1]\n",
      "Shared Key:       []\n",
      "Bits diferentes:  10\n",
      "\n",
      "Key gerada:       [1, 1, 1, 0, 1, 0, 0, 1, 1, 0]\n",
      "Shared Key:       [1]\n",
      "Bits diferentes:  9\n",
      "\n",
      "Key gerada:       [1, 0, 1, 1, 0, 1, 0, 0, 0, 0]\n",
      "Shared Key:       [1, 0, 0]\n",
      "Bits diferentes:  7\n"
     ]
    }
   ],
   "source": [
    "# Main code\n",
    "for messages in range(num_mensagens):\n",
    "    # Definindo Alice e Bob\n",
    "    alice, bob = rede.random_alice_bob(diff_nodes)\n",
    "    \n",
    "    # Informações para Alice\n",
    "    key_alice = create_key(key_size)\n",
    "    \n",
    "    # Informações para Bob\n",
    "    bases_bob = generate_bases(key_size)\n",
    "    \n",
    "    # Qubits\n",
    "    qubits = prepara_qubits_b92(key_alice)\n",
    "    \n",
    "    # Calculando a rota\n",
    "    route = controlador.calculate_route(alice, bob)\n",
    "        \n",
    "    # Bob mede os qubits\n",
    "    measured_qubits = apply_measurement_b92(qubits, bases_bob)\n",
    "    \n",
    "    # Print the results\n",
    "    results = f\"\"\"\n",
    "Key gerada:       {key_alice}\n",
    "Shared Key:       {measured_qubits}\n",
    "Bits diferentes:  {len(key_alice) - len(measured_qubits)}\"\"\"\n",
    "    \n",
    "    print(results)"
   ]
  }
 ],
 "metadata": {
  "kernelspec": {
   "display_name": "Python 3",
   "language": "python",
   "name": "python3"
  },
  "language_info": {
   "codemirror_mode": {
    "name": "ipython",
    "version": 3
   },
   "file_extension": ".py",
   "mimetype": "text/x-python",
   "name": "python",
   "nbconvert_exporter": "python",
   "pygments_lexer": "ipython3",
   "version": "3.11.5"
  }
 },
 "nbformat": 4,
 "nbformat_minor": 2
}
