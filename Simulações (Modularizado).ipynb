{
 "cells": [
  {
   "cell_type": "markdown",
   "metadata": {},
   "source": [
    "# Simulações com auxílio da função\n",
    "\n",
    "Simulações com a utilização da função ``run_simulations`` de ``components/qkd/app.py``."
   ]
  },
  {
   "cell_type": "code",
   "execution_count": 1,
   "metadata": {},
   "outputs": [],
   "source": [
    "# Dependências\n",
    "from components import Network, Controller\n",
    "from components.qkd.app import *\n",
    "import numpy as np"
   ]
  },
  {
   "cell_type": "code",
   "execution_count": null,
   "metadata": {},
   "outputs": [],
   "source": [
    "# Criação da rede\n",
    "rede = Network()\n",
    "rede.set_topology(\"Lattice\", 3, 3)\n",
    "controlador = Controller(rede)\n",
    "rede.draw()"
   ]
  },
  {
   "cell_type": "code",
   "execution_count": null,
   "metadata": {},
   "outputs": [],
   "source": [
    "# Informações da simulação\n",
    "n_simulacoes = 1\n",
    "n_requests = 5\n",
    "caso = 2\n",
    "apps = [\"BB84\", \"B92\", \"E91\"]\n",
    "routes_calculation_type = \"kshortest\""
   ]
  },
  {
   "cell_type": "code",
   "execution_count": null,
   "metadata": {},
   "outputs": [],
   "source": [
    "vazao, taxa = run_simulations(rede, controlador, n_simulacoes, n_requests, apps, caso, routes_calculation_type)"
   ]
  },
  {
   "cell_type": "code",
   "execution_count": null,
   "metadata": {},
   "outputs": [],
   "source": [
    "print(\"Vazão média: \", np.mean(vazao))\n",
    "print(\"Desvio padrão da vazão: \", np.std(vazao))\n",
    "print(\"Taxa média: \", np.mean(taxa))\n",
    "print(\"Desvio padrão da taxa: \", np.std(taxa))"
   ]
  }
 ],
 "metadata": {
  "kernelspec": {
   "display_name": "Python 3",
   "language": "python",
   "name": "python3"
  },
  "language_info": {
   "codemirror_mode": {
    "name": "ipython",
    "version": 3
   },
   "file_extension": ".py",
   "mimetype": "text/x-python",
   "name": "python",
   "nbconvert_exporter": "python",
   "pygments_lexer": "ipython3",
   "version": "3.12.1"
  }
 },
 "nbformat": 4,
 "nbformat_minor": 2
}
